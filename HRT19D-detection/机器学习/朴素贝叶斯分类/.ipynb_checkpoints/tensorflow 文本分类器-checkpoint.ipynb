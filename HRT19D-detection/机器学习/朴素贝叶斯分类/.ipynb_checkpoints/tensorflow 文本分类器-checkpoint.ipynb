{
 "cells": [
  {
   "cell_type": "markdown",
   "metadata": {},
   "source": [
    "# 垃圾邮件文本分类\n",
    "----\n",
    "使用tensorflow 重新进行文本分类，最终在测试集上的损失率降低至0.17 准确率达到0.95以上。"
   ]
  },
  {
   "cell_type": "code",
   "execution_count": 3,
   "metadata": {},
   "outputs": [],
   "source": [
    "import tensorflow as tf\n",
    "from tensorflow import keras\n",
    "import numpy as np"
   ]
  },
  {
   "cell_type": "markdown",
   "metadata": {},
   "source": [
    "代码开始时先引入需要的包，Python 为解释行语言，所以可以在任何地方引入想要的包。\n",
    "\n",
    "import tensorflow as tf \n",
    "\n",
    "引入 tensorflow 这个包，并将这个包的名字重命名为 tf 这样就可以使用 tf.xxx 来调用 tf 包里的内容。\n",
    "\n",
    "\n",
    "from tensorflow import keras\n",
    "\n",
    "从tensorflow 中引入 keras 模块。 keras 中主要实现了高阶的机器学习网络模型，可以使网络的搭建更简单。"
   ]
  },
  {
   "cell_type": "code",
   "execution_count": 4,
   "metadata": {},
   "outputs": [],
   "source": [
    "def load_data(file_path):\n",
    "    data=[]\n",
    "    label=[]\n",
    "    with open(file_path,\"r\") as data_file:\n",
    "        raw_data=data_file.readlines()\n",
    "        for raw_line in raw_data:\n",
    "            sample=raw_line[:-1]\n",
    "            sample=sample.split(\",\")\n",
    "            label.append(sample[-1])\n",
    "            sample=np.array([float(feature) for feature in sample[:-1]])\n",
    "            sample[-3]/=10\n",
    "            sample[-2]/=100\n",
    "            sample[-1]/=1000\n",
    "            data.append(sample)\n",
    "    return np.array(data),np.array(label)\n",
    "train_data,train_label=load_data(\"./spambase_train.data\")\n",
    "test_data,test_label=load_data(\"./spambase_test.data\")"
   ]
  },
  {
   "cell_type": "markdown",
   "metadata": {},
   "source": [
    "定义了一个从文件中读取数据的函数。"
   ]
  },
  {
   "cell_type": "code",
   "execution_count": 5,
   "metadata": {},
   "outputs": [
    {
     "data": {
      "text/plain": [
       "3224"
      ]
     },
     "execution_count": 5,
     "metadata": {},
     "output_type": "execute_result"
    }
   ],
   "source": [
    "len(train_data)"
   ]
  },
  {
   "cell_type": "code",
   "execution_count": 6,
   "metadata": {},
   "outputs": [
    {
     "data": {
      "text/plain": [
       "array([0.    , 0.42  , 0.42  , 0.    , 1.27  , 0.    , 0.42  , 0.    ,\n",
       "       0.    , 1.27  , 0.    , 0.    , 0.    , 0.    , 0.    , 1.27  ,\n",
       "       0.    , 0.    , 1.7   , 0.42  , 1.27  , 0.    , 0.    , 0.42  ,\n",
       "       0.    , 0.    , 0.    , 0.    , 0.    , 0.    , 0.    , 0.    ,\n",
       "       0.    , 0.    , 0.    , 0.    , 1.27  , 0.    , 0.    , 0.42  ,\n",
       "       0.    , 0.    , 0.    , 0.    , 0.    , 0.    , 0.    , 0.    ,\n",
       "       0.    , 0.063 , 0.    , 0.572 , 0.063 , 0.    , 0.5659, 0.55  ,\n",
       "       0.249 ])"
      ]
     },
     "execution_count": 6,
     "metadata": {},
     "output_type": "execute_result"
    }
   ],
   "source": [
    "train_data[10]"
   ]
  },
  {
   "cell_type": "markdown",
   "metadata": {},
   "source": [
    "keras 中的模型完全由 python 语言描述，相比之下，其它框架可能需要配置文件。\n",
    "\n",
    "下面这个模型共两层，其中第一层共57个结点，激活函数为 softmax ，第二层只有1个结点，激活函数为sigmoid。\n",
    "\n",
    "在模型定义好后需编译模型，这是可以选用优化器，损失函数和优化目标。这里使用的是对数损失函数，\n",
    "\n",
    "最终设定超参数，让模型去适应训练集和测试集。其中，所有训练样本完成一次正向传播和反向传播称为一个epoch。 batch_size 为在使用随机梯度下降时一组数据的数据量。"
   ]
  },
  {
   "cell_type": "code",
   "execution_count": 8,
   "metadata": {},
   "outputs": [],
   "source": [
    "from tensorflow.keras import layers\n",
    "model = tf.keras.Sequential([\n",
    "layers.Dense(57, activation='softmax'),\n",
    "layers.Dense(1, activation='relu')])"
   ]
  },
  {
   "cell_type": "code",
   "execution_count": 9,
   "metadata": {},
   "outputs": [],
   "source": [
    "model.compile(optimizer=tf.train.AdamOptimizer(),\n",
    "              loss='binary_crossentropy',\n",
    "              metrics=['accuracy'])"
   ]
  },
  {
   "cell_type": "code",
   "execution_count": 10,
   "metadata": {},
   "outputs": [
    {
     "name": "stdout",
     "output_type": "stream",
     "text": [
      "Train on 3224 samples, validate on 1377 samples\n",
      "Epoch 1/40\n",
      "3224/3224 [==============================] - 1s 315us/step - loss: 2.2657 - acc: 0.6061 - val_loss: 1.0578 - val_acc: 0.6057\n",
      "Epoch 2/40\n",
      "3224/3224 [==============================] - 0s 82us/step - loss: 0.9970 - acc: 0.6061 - val_loss: 0.9217 - val_acc: 0.6057\n",
      "Epoch 3/40\n",
      "3224/3224 [==============================] - 0s 82us/step - loss: 0.8869 - acc: 0.6061 - val_loss: 0.8302 - val_acc: 0.6057\n",
      "Epoch 4/40\n",
      "3224/3224 [==============================] - 0s 87us/step - loss: 0.8076 - acc: 0.6061 - val_loss: 0.7620 - val_acc: 0.6057\n",
      "Epoch 5/40\n",
      "3224/3224 [==============================] - 0s 78us/step - loss: 0.7455 - acc: 0.6061 - val_loss: 0.7070 - val_acc: 0.6057\n",
      "Epoch 6/40\n",
      "3224/3224 [==============================] - 0s 87us/step - loss: 0.6945 - acc: 0.6061 - val_loss: 0.6677 - val_acc: 0.6057\n",
      "Epoch 7/40\n",
      "3224/3224 [==============================] - 0s 87us/step - loss: 0.6508 - acc: 0.6061 - val_loss: 0.6271 - val_acc: 0.6057\n",
      "Epoch 8/40\n",
      "3224/3224 [==============================] - 0s 82us/step - loss: 0.6123 - acc: 0.6061 - val_loss: 0.5907 - val_acc: 0.6057\n",
      "Epoch 9/40\n",
      "3224/3224 [==============================] - 0s 82us/step - loss: 0.5770 - acc: 0.6061 - val_loss: 0.5564 - val_acc: 0.6057\n",
      "Epoch 10/40\n",
      "3224/3224 [==============================] - 0s 97us/step - loss: 0.5429 - acc: 0.6095 - val_loss: 0.5217 - val_acc: 0.6187\n",
      "Epoch 11/40\n",
      "3224/3224 [==============================] - 0s 102us/step - loss: 0.5076 - acc: 0.6430 - val_loss: 0.4835 - val_acc: 0.6667\n",
      "Epoch 12/40\n",
      "3224/3224 [==============================] - 0s 97us/step - loss: 0.4677 - acc: 0.6911 - val_loss: 0.4387 - val_acc: 0.7291\n",
      "Epoch 13/40\n",
      "3224/3224 [==============================] - 0s 97us/step - loss: 0.4221 - acc: 0.7503 - val_loss: 0.3895 - val_acc: 0.8126\n",
      "Epoch 14/40\n",
      "3224/3224 [==============================] - 0s 87us/step - loss: 0.3758 - acc: 0.8179 - val_loss: 0.3446 - val_acc: 0.8642\n",
      "Epoch 15/40\n",
      "3224/3224 [==============================] - 0s 87us/step - loss: 0.3375 - acc: 0.8524 - val_loss: 0.3125 - val_acc: 0.8765\n",
      "Epoch 16/40\n",
      "3224/3224 [==============================] - 0s 82us/step - loss: 0.3112 - acc: 0.8716 - val_loss: 0.2936 - val_acc: 0.8867\n",
      "Epoch 17/40\n",
      "3224/3224 [==============================] - 0s 92us/step - loss: 0.2953 - acc: 0.8818 - val_loss: 0.2820 - val_acc: 0.8940\n",
      "Epoch 18/40\n",
      "3224/3224 [==============================] - 0s 92us/step - loss: 0.2836 - acc: 0.8865 - val_loss: 0.2722 - val_acc: 0.9005\n",
      "Epoch 19/40\n",
      "3224/3224 [==============================] - 0s 87us/step - loss: 0.2740 - acc: 0.8917 - val_loss: 0.2645 - val_acc: 0.9078\n",
      "Epoch 20/40\n",
      "3224/3224 [==============================] - 0s 97us/step - loss: 0.2716 - acc: 0.8964 - val_loss: 0.2562 - val_acc: 0.9099\n",
      "Epoch 21/40\n",
      "3224/3224 [==============================] - 0s 95us/step - loss: 0.2561 - acc: 0.8992 - val_loss: 0.2751 - val_acc: 0.9129\n",
      "Epoch 22/40\n",
      "3224/3224 [==============================] - 0s 102us/step - loss: 0.2499 - acc: 0.9042 - val_loss: 0.2443 - val_acc: 0.9129\n",
      "Epoch 23/40\n",
      "3224/3224 [==============================] - 0s 107us/step - loss: 0.2421 - acc: 0.9066 - val_loss: 0.2371 - val_acc: 0.9172\n",
      "Epoch 24/40\n",
      "3224/3224 [==============================] - 0s 131us/step - loss: 0.2381 - acc: 0.9097 - val_loss: 0.2303 - val_acc: 0.9216\n",
      "Epoch 25/40\n",
      "3224/3224 [==============================] - 0s 73us/step - loss: 0.2303 - acc: 0.9116 - val_loss: 0.2244 - val_acc: 0.9259\n",
      "Epoch 26/40\n",
      "3224/3224 [==============================] - 0s 78us/step - loss: 0.2229 - acc: 0.9200 - val_loss: 0.2228 - val_acc: 0.9281\n",
      "Epoch 27/40\n",
      "3224/3224 [==============================] - 0s 78us/step - loss: 0.2173 - acc: 0.9206 - val_loss: 0.2185 - val_acc: 0.9267\n",
      "Epoch 28/40\n",
      "3224/3224 [==============================] - 0s 73us/step - loss: 0.2125 - acc: 0.9234 - val_loss: 0.2153 - val_acc: 0.9288\n",
      "Epoch 29/40\n",
      "3224/3224 [==============================] - 0s 78us/step - loss: 0.2080 - acc: 0.9243 - val_loss: 0.2153 - val_acc: 0.9310\n",
      "Epoch 30/40\n",
      "3224/3224 [==============================] - 0s 73us/step - loss: 0.2257 - acc: 0.9256 - val_loss: 0.2092 - val_acc: 0.9325\n",
      "Epoch 31/40\n",
      "3224/3224 [==============================] - 0s 78us/step - loss: 0.2031 - acc: 0.9249 - val_loss: 0.2080 - val_acc: 0.9332\n",
      "Epoch 32/40\n",
      "3224/3224 [==============================] - 0s 102us/step - loss: 0.2000 - acc: 0.9256 - val_loss: 0.2070 - val_acc: 0.9325\n",
      "Epoch 33/40\n",
      "3224/3224 [==============================] - 0s 78us/step - loss: 0.1973 - acc: 0.9252 - val_loss: 0.2079 - val_acc: 0.9325\n",
      "Epoch 34/40\n",
      "3224/3224 [==============================] - 0s 78us/step - loss: 0.1951 - acc: 0.9296 - val_loss: 0.2041 - val_acc: 0.9303\n",
      "Epoch 35/40\n",
      "3224/3224 [==============================] - 0s 73us/step - loss: 0.1934 - acc: 0.9305 - val_loss: 0.2033 - val_acc: 0.9317\n",
      "Epoch 36/40\n",
      "3224/3224 [==============================] - 0s 87us/step - loss: 0.1918 - acc: 0.9315 - val_loss: 0.2079 - val_acc: 0.9332\n",
      "Epoch 37/40\n",
      "3224/3224 [==============================] - 0s 78us/step - loss: 0.1899 - acc: 0.9296 - val_loss: 0.2070 - val_acc: 0.9354\n",
      "Epoch 38/40\n",
      "3224/3224 [==============================] - 0s 78us/step - loss: 0.1890 - acc: 0.9305 - val_loss: 0.2021 - val_acc: 0.9346\n",
      "Epoch 39/40\n",
      "3224/3224 [==============================] - 0s 82us/step - loss: 0.1865 - acc: 0.9321 - val_loss: 0.2085 - val_acc: 0.9346\n",
      "Epoch 40/40\n",
      "3224/3224 [==============================] - 0s 80us/step - loss: 0.1848 - acc: 0.9327 - val_loss: 0.2061 - val_acc: 0.9354\n"
     ]
    }
   ],
   "source": [
    "history = model.fit(train_data,\n",
    "                    train_label,\n",
    "                    epochs=40,\n",
    "                    batch_size=20,\n",
    "                    validation_data=(test_data, test_label),\n",
    "                    verbose=1)"
   ]
  },
  {
   "cell_type": "code",
   "execution_count": 11,
   "metadata": {},
   "outputs": [],
   "source": [
    "history_dict = history.history\n",
    "history_dict.keys()\n",
    "dict_keys=['loss', 'val_loss', 'val_acc', 'acc']"
   ]
  },
  {
   "cell_type": "code",
   "execution_count": 12,
   "metadata": {},
   "outputs": [
    {
     "data": {
      "image/png": "[encoded data removed]",
      "text/plain": [
       "<Figure size 432x288 with 1 Axes>"
      ]
     },
     "metadata": {
      "needs_background": "light"
     },
     "output_type": "display_data"
    }
   ],
   "source": [
    "import matplotlib.pyplot as plt\n",
    "%matplotlib inline\n",
    "acc = history.history['acc']\n",
    "val_acc = history.history['val_acc']\n",
    "loss = history.history['loss']\n",
    "val_loss = history.history['val_loss']\n",
    "\n",
    "epochs = range(1, len(acc) + 1)\n",
    "\n",
    "# \"bo\" is for \"blue dot\"\n",
    "plt.plot(epochs, loss, 'bo', label='Training loss')\n",
    "# b is for \"solid blue line\"\n",
    "plt.plot(epochs, val_loss, 'b', label='Validation loss')\n",
    "plt.title('Training and validation loss')\n",
    "plt.xlabel('Epochs')\n",
    "plt.ylabel('Loss')\n",
    "plt.legend()\n",
    "\n",
    "plt.show()"
   ]
  },
  {
   "cell_type": "code",
   "execution_count": 13,
   "metadata": {},
   "outputs": [
    {
     "data": {
      "image/png": "[encoded data removed]",
      "text/plain": [
       "<Figure size 432x288 with 1 Axes>"
      ]
     },
     "metadata": {
      "needs_background": "light"
     },
     "output_type": "display_data"
    }
   ],
   "source": [
    "acc_values = history_dict['acc']\n",
    "val_acc_values = history_dict['val_acc']\n",
    "\n",
    "plt.plot(epochs, acc, 'bo', label='Training acc')\n",
    "plt.plot(epochs, val_acc, 'b', label='Validation acc')\n",
    "plt.title('Training and validation accuracy')\n",
    "plt.xlabel('Epochs')\n",
    "plt.ylabel('Accuracy')\n",
    "plt.legend()\n",
    "\n",
    "plt.show()"
   ]
  },
  {
   "cell_type": "code",
   "execution_count": null,
   "metadata": {},
   "outputs": [],
   "source": []
  }
 ],
 "metadata": {
  "kernelspec": {
   "display_name": "Python 3",
   "language": "python",
   "name": "python3"
  },
  "language_info": {
   "codemirror_mode": {
    "name": "ipython",
    "version": 3
   },
   "file_extension": ".py",
   "mimetype": "text/x-python",
   "name": "python",
   "nbconvert_exporter": "python",
   "pygments_lexer": "ipython3",
   "version": "3.6.6"
  }
 },
 "nbformat": 4,
 "nbformat_minor": 2
}
