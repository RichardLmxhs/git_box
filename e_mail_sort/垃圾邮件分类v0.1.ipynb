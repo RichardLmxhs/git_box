{
 "cells": [
  {
   "cell_type": "code",
   "execution_count": 1,
   "metadata": {},
   "outputs": [],
   "source": [
    "import tensorflow as tf\n",
    "from tensorflow import keras\n",
    "import numpy as np"
   ]
  },
  {
   "cell_type": "code",
   "execution_count": 2,
   "metadata": {},
   "outputs": [],
   "source": [
    "def load_data(file_path):\n",
    "    data=[]\n",
    "    label=[]\n",
    "    with open(file_path,\"r\") as data_file:\n",
    "        raw_data=data_file.readlines()\n",
    "        for raw_line in raw_data:\n",
    "            sample=raw_line[:-1]#去掉了行读取数据中的\\n\n",
    "            sample=sample.split(\",\")#以逗号分隔字符串\n",
    "            label.append(sample[-1])#记录末尾的布尔值\n",
    "            sample=np.array([float(feature) for feature in sample[:-1]])#创建一个array\n",
    "            sample[-3]/=10\n",
    "            sample[-2]/=100\n",
    "            sample[-1]/=1000\n",
    "            #对后三个较大的数据做调整\n",
    "            data.append(sample)#导出sample的值\n",
    "    return np.array(data),np.array(label)\n",
    "train_data,train_label=load_data(\"./train.data\")\n",
    "test_data,test_label=load_data(\"./test.data\")"
   ]
  },
  {
   "cell_type": "code",
   "execution_count": 5,
   "metadata": {},
   "outputs": [],
   "source": [
    "from tensorflow.keras import layers\n",
    "model = tf.keras.Sequential([#使用序贯模型\n",
    "layers.Dense(57, activation='softmax'),#？为啥是57  因为一行共58个数据，去掉最后的布尔值正好57\n",
    "layers.Dense(1, activation='sigmoid')])#输出的那层"
   ]
  },
  {
   "cell_type": "code",
   "execution_count": 6,
   "metadata": {},
   "outputs": [],
   "source": [
    "model.compile(optimizer=tf.train.AdamOptimizer(),#compile对学习过程进行配置\n",
    "              loss='binary_crossentropy',#损失函数\n",
    "              metrics=['accuracy'])#指标列表"
   ]
  },
  {
   "cell_type": "code",
   "execution_count": 7,
   "metadata": {},
   "outputs": [
    {
     "name": "stdout",
     "output_type": "stream",
     "text": [
      "Train on 3224 samples, validate on 1377 samples\n",
      "Epoch 1/40\n",
      "3224/3224 [==============================] - 0s 146us/step - loss: 0.6559 - acc: 0.7094 - val_loss: 0.6143 - val_acc: 0.8032\n",
      "Epoch 2/40\n",
      "3224/3224 [==============================] - 0s 46us/step - loss: 0.5737 - acc: 0.8412 - val_loss: 0.5176 - val_acc: 0.8889\n",
      "Epoch 3/40\n",
      "3224/3224 [==============================] - 0s 48us/step - loss: 0.4884 - acc: 0.8890 - val_loss: 0.4399 - val_acc: 0.9063\n",
      "Epoch 4/40\n",
      "3224/3224 [==============================] - 0s 49us/step - loss: 0.4223 - acc: 0.9051 - val_loss: 0.3801 - val_acc: 0.9223\n",
      "Epoch 5/40\n",
      "3224/3224 [==============================] - 0s 47us/step - loss: 0.3725 - acc: 0.9116 - val_loss: 0.3371 - val_acc: 0.9281\n",
      "Epoch 6/40\n",
      "3224/3224 [==============================] - 0s 53us/step - loss: 0.3368 - acc: 0.9221 - val_loss: 0.3066 - val_acc: 0.9288\n",
      "Epoch 7/40\n",
      "3224/3224 [==============================] - 0s 60us/step - loss: 0.3108 - acc: 0.9271 - val_loss: 0.2841 - val_acc: 0.9332\n",
      "Epoch 8/40\n",
      "3224/3224 [==============================] - 0s 46us/step - loss: 0.2905 - acc: 0.9262 - val_loss: 0.2665 - val_acc: 0.9317\n",
      "Epoch 9/40\n",
      "3224/3224 [==============================] - 0s 46us/step - loss: 0.2738 - acc: 0.9287 - val_loss: 0.2526 - val_acc: 0.9325\n",
      "Epoch 10/40\n",
      "3224/3224 [==============================] - 0s 48us/step - loss: 0.2597 - acc: 0.9305 - val_loss: 0.2418 - val_acc: 0.9339\n",
      "Epoch 11/40\n",
      "3224/3224 [==============================] - 0s 47us/step - loss: 0.2480 - acc: 0.9321 - val_loss: 0.2325 - val_acc: 0.9354\n",
      "Epoch 12/40\n",
      "3224/3224 [==============================] - 0s 61us/step - loss: 0.2385 - acc: 0.9302 - val_loss: 0.2255 - val_acc: 0.9368\n",
      "Epoch 13/40\n",
      "3224/3224 [==============================] - 0s 54us/step - loss: 0.2303 - acc: 0.9324 - val_loss: 0.2192 - val_acc: 0.9361\n",
      "Epoch 14/40\n",
      "3224/3224 [==============================] - 0s 47us/step - loss: 0.2235 - acc: 0.9321 - val_loss: 0.2138 - val_acc: 0.9368\n",
      "Epoch 15/40\n",
      "3224/3224 [==============================] - 0s 47us/step - loss: 0.2169 - acc: 0.9342 - val_loss: 0.2094 - val_acc: 0.9368\n",
      "Epoch 16/40\n",
      "3224/3224 [==============================] - 0s 47us/step - loss: 0.2117 - acc: 0.9377 - val_loss: 0.2058 - val_acc: 0.9375\n",
      "Epoch 17/40\n",
      "3224/3224 [==============================] - 0s 56us/step - loss: 0.2068 - acc: 0.9386 - val_loss: 0.2021 - val_acc: 0.9368\n",
      "Epoch 18/40\n",
      "3224/3224 [==============================] - 0s 60us/step - loss: 0.2030 - acc: 0.9395 - val_loss: 0.1996 - val_acc: 0.9368\n",
      "Epoch 19/40\n",
      "3224/3224 [==============================] - 0s 49us/step - loss: 0.1992 - acc: 0.9392 - val_loss: 0.1971 - val_acc: 0.9375\n",
      "Epoch 20/40\n",
      "3224/3224 [==============================] - 0s 49us/step - loss: 0.1958 - acc: 0.9417 - val_loss: 0.1953 - val_acc: 0.9375\n",
      "Epoch 21/40\n",
      "3224/3224 [==============================] - 0s 49us/step - loss: 0.1930 - acc: 0.9401 - val_loss: 0.1927 - val_acc: 0.9405\n",
      "Epoch 22/40\n",
      "3224/3224 [==============================] - 0s 50us/step - loss: 0.1902 - acc: 0.9417 - val_loss: 0.1907 - val_acc: 0.9390\n",
      "Epoch 23/40\n",
      "3224/3224 [==============================] - 0s 48us/step - loss: 0.1876 - acc: 0.9426 - val_loss: 0.1888 - val_acc: 0.9397\n",
      "Epoch 24/40\n",
      "3224/3224 [==============================] - 0s 64us/step - loss: 0.1852 - acc: 0.9442 - val_loss: 0.1874 - val_acc: 0.9390\n",
      "Epoch 25/40\n",
      "3224/3224 [==============================] - 0s 53us/step - loss: 0.1832 - acc: 0.9445 - val_loss: 0.1870 - val_acc: 0.9397\n",
      "Epoch 26/40\n",
      "3224/3224 [==============================] - 0s 49us/step - loss: 0.1811 - acc: 0.9423 - val_loss: 0.1857 - val_acc: 0.9397\n",
      "Epoch 27/40\n",
      "3224/3224 [==============================] - 0s 55us/step - loss: 0.1790 - acc: 0.9442 - val_loss: 0.1838 - val_acc: 0.9390\n",
      "Epoch 28/40\n",
      "3224/3224 [==============================] - 0s 52us/step - loss: 0.1771 - acc: 0.9442 - val_loss: 0.1831 - val_acc: 0.9390\n",
      "Epoch 29/40\n",
      "3224/3224 [==============================] - 0s 63us/step - loss: 0.1755 - acc: 0.9454 - val_loss: 0.1820 - val_acc: 0.9390\n",
      "Epoch 30/40\n",
      "3224/3224 [==============================] - 0s 54us/step - loss: 0.1738 - acc: 0.9470 - val_loss: 0.1807 - val_acc: 0.9397\n",
      "Epoch 31/40\n",
      "3224/3224 [==============================] - 0s 47us/step - loss: 0.1722 - acc: 0.9470 - val_loss: 0.1800 - val_acc: 0.9405\n",
      "Epoch 32/40\n",
      "3224/3224 [==============================] - 0s 46us/step - loss: 0.1708 - acc: 0.9473 - val_loss: 0.1794 - val_acc: 0.9397\n",
      "Epoch 33/40\n",
      "3224/3224 [==============================] - 0s 49us/step - loss: 0.1691 - acc: 0.9473 - val_loss: 0.1784 - val_acc: 0.9390\n",
      "Epoch 34/40\n",
      "3224/3224 [==============================] - 0s 58us/step - loss: 0.1678 - acc: 0.9482 - val_loss: 0.1783 - val_acc: 0.9390\n",
      "Epoch 35/40\n",
      "3224/3224 [==============================] - 0s 54us/step - loss: 0.1667 - acc: 0.9479 - val_loss: 0.1774 - val_acc: 0.9397\n",
      "Epoch 36/40\n",
      "3224/3224 [==============================] - 0s 49us/step - loss: 0.1646 - acc: 0.9491 - val_loss: 0.1768 - val_acc: 0.9397\n",
      "Epoch 37/40\n",
      "3224/3224 [==============================] - 0s 52us/step - loss: 0.1634 - acc: 0.9485 - val_loss: 0.1764 - val_acc: 0.9397\n",
      "Epoch 38/40\n",
      "3224/3224 [==============================] - 0s 52us/step - loss: 0.1618 - acc: 0.9494 - val_loss: 0.1758 - val_acc: 0.9405\n",
      "Epoch 39/40\n",
      "3224/3224 [==============================] - 0s 56us/step - loss: 0.1606 - acc: 0.9491 - val_loss: 0.1754 - val_acc: 0.9412\n",
      "Epoch 40/40\n",
      "3224/3224 [==============================] - 0s 60us/step - loss: 0.1593 - acc: 0.9507 - val_loss: 0.1746 - val_acc: 0.9412\n"
     ]
    }
   ],
   "source": [
    "#训练，使用 fit 函数\n",
    "history = model.fit(train_data,#训练数据的输入X\n",
    "                    train_label,#训练标识Y\n",
    "                    epochs=40,#训练轮数\n",
    "                    batch_size=20,#每次梯度下降时包含的样本数\n",
    "                    validation_data=(test_data, test_label),#验证集\n",
    "                    verbose=1)#日志显示，1表示以进度条形式显示"
   ]
  },
  {
   "cell_type": "code",
   "execution_count": 8,
   "metadata": {},
   "outputs": [],
   "source": [
    "history_dict = history.history\n",
    "history_dict.keys()\n",
    "dict_keys=['loss', 'val_loss', 'val_acc', 'acc']"
   ]
  },
  {
   "cell_type": "code",
   "execution_count": 13,
   "metadata": {},
   "outputs": [],
   "source": [
    "def load_data_forcase(file_path):\n",
    "    data=[]\n",
    "    with open(file_path,\"r\") as data_file:\n",
    "        raw_data=data_file.readlines()\n",
    "        for raw_line in raw_data:\n",
    "            sample=raw_line[:-1]#去掉了行读取数据中的\\n\n",
    "            sample=sample.split(\",\")#以逗号分隔字符串\n",
    "            sample=np.array([float(feature) for feature in sample])#创建一个array\n",
    "            sample[-3]/=10\n",
    "            sample[-2]/=100\n",
    "            sample[-1]/=1000\n",
    "            #对后三个较大的数据做调整\n",
    "            data.append(sample)#导出sample的值\n",
    "    return np.array(data)\n",
    "forcase_data=load_data_forcase(\"./get_the_flag.data\")"
   ]
  },
  {
   "cell_type": "code",
   "execution_count": 14,
   "metadata": {},
   "outputs": [
    {
     "name": "stdout",
     "output_type": "stream",
     "text": [
      "560/560 [==============================] - 0s 48us/step\n"
     ]
    }
   ],
   "source": [
    "forcase_end = model.predict_classes(forcase_data , batch_size=20, verbose=1)"
   ]
  },
  {
   "cell_type": "code",
   "execution_count": 17,
   "metadata": {},
   "outputs": [
    {
     "data": {
      "text/plain": [
       "560"
      ]
     },
     "execution_count": 17,
     "metadata": {},
     "output_type": "execute_result"
    }
   ],
   "source": [
    "len(forcase_end)"
   ]
  },
  {
   "cell_type": "code",
   "execution_count": 19,
   "metadata": {
    "scrolled": false
   },
   "outputs": [
    {
     "data": {
      "image/png": "[encoded data removed]",
      "text/plain": [
       "<Figure size 432x288 with 1 Axes>"
      ]
     },
     "metadata": {
      "needs_background": "light"
     },
     "output_type": "display_data"
    }
   ],
   "source": [
    "x = np.array(range(560))\n",
    "y = forcase_end\n",
    "plt.scatter(x, y)\n",
    "plt.show()"
   ]
  },
  {
   "cell_type": "code",
   "execution_count": 1,
   "metadata": {},
   "outputs": [
    {
     "ename": "NameError",
     "evalue": "name 'forcase_end' is not defined",
     "output_type": "error",
     "traceback": [
      "\u001b[1;31m---------------------------------------------------------------------------\u001b[0m",
      "\u001b[1;31mNameError\u001b[0m                                 Traceback (most recent call last)",
      "\u001b[1;32m<ipython-input-1-652bf12f496a>\u001b[0m in \u001b[0;36m<module>\u001b[1;34m\u001b[0m\n\u001b[0;32m      3\u001b[0m \u001b[0mt\u001b[0m \u001b[1;33m=\u001b[0m \u001b[1;36m0\u001b[0m\u001b[1;33m\u001b[0m\u001b[1;33m\u001b[0m\u001b[0m\n\u001b[0;32m      4\u001b[0m \u001b[1;32mwhile\u001b[0m \u001b[0mi\u001b[0m \u001b[1;33m<\u001b[0m \u001b[1;36m560\u001b[0m\u001b[1;33m:\u001b[0m\u001b[1;33m\u001b[0m\u001b[1;33m\u001b[0m\u001b[0m\n\u001b[1;32m----> 5\u001b[1;33m     \u001b[1;32mif\u001b[0m \u001b[0mforcase_end\u001b[0m\u001b[1;33m[\u001b[0m\u001b[0mi\u001b[0m\u001b[1;33m]\u001b[0m \u001b[1;33m==\u001b[0m \u001b[1;36m1\u001b[0m \u001b[1;33m:\u001b[0m\u001b[1;33m\u001b[0m\u001b[1;33m\u001b[0m\u001b[0m\n\u001b[0m\u001b[0;32m      6\u001b[0m         \u001b[0mt\u001b[0m \u001b[1;33m=\u001b[0m \u001b[0mt\u001b[0m \u001b[1;33m+\u001b[0m \u001b[1;36m1\u001b[0m\u001b[1;33m\u001b[0m\u001b[1;33m\u001b[0m\u001b[0m\n\u001b[0;32m      7\u001b[0m     \u001b[1;32mif\u001b[0m \u001b[0mi\u001b[0m \u001b[1;33m%\u001b[0m \u001b[1;36m10\u001b[0m \u001b[1;33m==\u001b[0m \u001b[1;36m0\u001b[0m \u001b[1;33m:\u001b[0m\u001b[1;33m\u001b[0m\u001b[1;33m\u001b[0m\u001b[0m\n",
      "\u001b[1;31mNameError\u001b[0m: name 'forcase_end' is not defined"
     ]
    }
   ],
   "source": [
    "flag=[]\n",
    "i = 0\n",
    "t = 0\n",
    "while i < 560:\n",
    "    if forcase_end[i] == 1 :\n",
    "        t = t + 1\n",
    "    if i % 10 == 0 :\n",
    "        if t > 5 :\n",
    "            flag.append(1)\n",
    "        else :\n",
    "            flag.append(0)\n",
    "        t = 0\n",
    "    i = i + 1 \n",
    "\n",
    "print(flag[1:])"
   ]
  },
  {
   "cell_type": "code",
   "execution_count": 9,
   "metadata": {},
   "outputs": [
    {
     "data": {
      "image/png": "[encoded data removed]",
      "text/plain": [
       "<Figure size 432x288 with 1 Axes>"
      ]
     },
     "metadata": {
      "needs_background": "light"
     },
     "output_type": "display_data"
    }
   ],
   "source": [
    "import matplotlib.pyplot as plt\n",
    "%matplotlib inline\n",
    "acc = history.history['acc']\n",
    "val_acc = history.history['val_acc']\n",
    "loss = history.history['loss']\n",
    "val_loss = history.history['val_loss']\n",
    "\n",
    "epochs = range(1, len(acc) + 1)\n",
    "\n",
    "# \"bo\" is for \"blue dot\"\n",
    "plt.plot(epochs, loss, 'bo', label='Training loss')\n",
    "# b is for \"solid blue line\"\n",
    "plt.plot(epochs, val_loss, 'b', label='Validation loss')\n",
    "plt.title('Training and validation loss')\n",
    "plt.xlabel('Epochs')\n",
    "plt.ylabel('Loss')\n",
    "plt.legend()\n",
    "\n",
    "plt.show()"
   ]
  },
  {
   "cell_type": "code",
   "execution_count": 10,
   "metadata": {},
   "outputs": [
    {
     "data": {
      "image/png": "[encoded data removed]",
      "text/plain": [
       "<Figure size 432x288 with 1 Axes>"
      ]
     },
     "metadata": {
      "needs_background": "light"
     },
     "output_type": "display_data"
    }
   ],
   "source": [
    "acc_values = history_dict['acc']\n",
    "val_acc_values = history_dict['val_acc']\n",
    "\n",
    "plt.plot(epochs, acc, 'bo', label='Training acc')\n",
    "plt.plot(epochs, val_acc, 'b', label='Validation acc')\n",
    "plt.title('Training and validation accuracy')\n",
    "plt.xlabel('Epochs')\n",
    "plt.ylabel('Accuracy')\n",
    "plt.legend()\n",
    "\n",
    "plt.show()"
   ]
  },
  {
   "cell_type": "code",
   "execution_count": null,
   "metadata": {},
   "outputs": [],
   "source": []
  }
 ],
 "metadata": {
  "kernelspec": {
   "display_name": "Python 3",
   "language": "python",
   "name": "python3"
  },
  "language_info": {
   "codemirror_mode": {
    "name": "ipython",
    "version": 3
   },
   "file_extension": ".py",
   "mimetype": "text/x-python",
   "name": "python",
   "nbconvert_exporter": "python",
   "pygments_lexer": "ipython3",
   "version": "3.7.1"
  }
 },
 "nbformat": 4,
 "nbformat_minor": 2
}
