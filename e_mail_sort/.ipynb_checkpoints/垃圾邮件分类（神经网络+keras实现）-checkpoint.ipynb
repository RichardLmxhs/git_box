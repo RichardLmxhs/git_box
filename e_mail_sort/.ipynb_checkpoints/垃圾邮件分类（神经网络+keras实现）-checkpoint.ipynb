{
 "cells": [
  {
   "cell_type": "code",
   "execution_count": 1,
   "metadata": {},
   "outputs": [],
   "source": [
    "import tensorflow as tf\n",
    "from tensorflow import keras\n",
    "import numpy as np"
   ]
  },
  {
   "cell_type": "code",
   "execution_count": 2,
   "metadata": {},
   "outputs": [],
   "source": [
    "def load_data(file_path):\n",
    "    data=[]\n",
    "    label=[]\n",
    "    with open(file_path,\"r\") as data_file:\n",
    "        raw_data=data_file.readlines()\n",
    "        for raw_line in raw_data:\n",
    "            sample=raw_line[:-1]#去掉了行读取数据中的\\n\n",
    "            sample=sample.split(\",\")#以逗号分隔字符串\n",
    "            label.append(sample[-1])#记录末尾的布尔值\n",
    "            sample=np.array([float(feature) for feature in sample[:-1]])#创建一个array\n",
    "            sample[-3]/=10\n",
    "            sample[-2]/=100\n",
    "            sample[-1]/=1000\n",
    "            #对后三个较大的数据做调整\n",
    "            data.append(sample)#导出sample的值\n",
    "    return np.array(data),np.array(label)\n",
    "train_data,train_label=load_data(\"./train.data\")\n",
    "test_data,test_label=load_data(\"./test.data\")"
   ]
  },
  {
   "cell_type": "code",
   "execution_count": 3,
   "metadata": {},
   "outputs": [],
   "source": [
    "from tensorflow.keras import layers\n",
    "model = tf.keras.Sequential([#使用序贯模型\n",
    "layers.Dense(57, activation='softmax'),#？为啥是57  因为一行共58个数据，去掉最后的布尔值正好57\n",
    "layers.Dense(1, activation='sigmoid')])#输出的那层"
   ]
  },
  {
   "cell_type": "code",
   "execution_count": 4,
   "metadata": {},
   "outputs": [],
   "source": [
    "model.compile(optimizer=tf.train.AdamOptimizer(),#compile对学习过程进行配置\n",
    "              loss='binary_crossentropy',#损失函数\n",
    "              metrics=['accuracy'])#指标列表"
   ]
  },
  {
   "cell_type": "code",
   "execution_count": 5,
   "metadata": {},
   "outputs": [
    {
     "name": "stdout",
     "output_type": "stream",
     "text": [
      "Train on 3224 samples, validate on 1377 samples\n",
      "Epoch 1/40\n",
      "3224/3224 [==============================] - 1s 407us/step - loss: 0.6575 - acc: 0.7060 - val_loss: 0.6146 - val_acc: 0.8279\n",
      "Epoch 2/40\n",
      "3224/3224 [==============================] - 0s 56us/step - loss: 0.5766 - acc: 0.8651 - val_loss: 0.5264 - val_acc: 0.8831\n",
      "Epoch 3/40\n",
      "3224/3224 [==============================] - 0s 49us/step - loss: 0.4950 - acc: 0.8939 - val_loss: 0.4478 - val_acc: 0.9005\n",
      "Epoch 4/40\n",
      "3224/3224 [==============================] - 0s 48us/step - loss: 0.4273 - acc: 0.9057 - val_loss: 0.3877 - val_acc: 0.9179\n",
      "Epoch 5/40\n",
      "3224/3224 [==============================] - 0s 46us/step - loss: 0.3775 - acc: 0.9163 - val_loss: 0.3448 - val_acc: 0.9245\n",
      "Epoch 6/40\n",
      "3224/3224 [==============================] - 0s 48us/step - loss: 0.3416 - acc: 0.9225 - val_loss: 0.3130 - val_acc: 0.9303\n",
      "Epoch 7/40\n",
      "3224/3224 [==============================] - 0s 62us/step - loss: 0.3145 - acc: 0.9252 - val_loss: 0.2888 - val_acc: 0.9281\n",
      "Epoch 8/40\n",
      "3224/3224 [==============================] - 0s 62us/step - loss: 0.2931 - acc: 0.9290 - val_loss: 0.2701 - val_acc: 0.9288\n",
      "Epoch 9/40\n",
      "3224/3224 [==============================] - 0s 49us/step - loss: 0.2762 - acc: 0.9305 - val_loss: 0.2558 - val_acc: 0.9317\n",
      "Epoch 10/40\n",
      "3224/3224 [==============================] - 0s 48us/step - loss: 0.2628 - acc: 0.9302 - val_loss: 0.2442 - val_acc: 0.9310\n",
      "Epoch 11/40\n",
      "3224/3224 [==============================] - 0s 45us/step - loss: 0.2516 - acc: 0.9308 - val_loss: 0.2349 - val_acc: 0.9325\n",
      "Epoch 12/40\n",
      "3224/3224 [==============================] - 0s 47us/step - loss: 0.2423 - acc: 0.9308 - val_loss: 0.2271 - val_acc: 0.9339\n",
      "Epoch 13/40\n",
      "3224/3224 [==============================] - 0s 46us/step - loss: 0.2339 - acc: 0.9318 - val_loss: 0.2203 - val_acc: 0.9339\n",
      "Epoch 14/40\n",
      "3224/3224 [==============================] - 0s 46us/step - loss: 0.2269 - acc: 0.9315 - val_loss: 0.2146 - val_acc: 0.9346\n",
      "Epoch 15/40\n",
      "3224/3224 [==============================] - 0s 46us/step - loss: 0.2206 - acc: 0.9330 - val_loss: 0.2096 - val_acc: 0.9361\n",
      "Epoch 16/40\n",
      "3224/3224 [==============================] - 0s 63us/step - loss: 0.2149 - acc: 0.9346 - val_loss: 0.2056 - val_acc: 0.9368\n",
      "Epoch 17/40\n",
      "3224/3224 [==============================] - 0s 64us/step - loss: 0.2101 - acc: 0.9367 - val_loss: 0.2018 - val_acc: 0.9368\n",
      "Epoch 18/40\n",
      "3224/3224 [==============================] - 0s 52us/step - loss: 0.2059 - acc: 0.9392 - val_loss: 0.1990 - val_acc: 0.9368\n",
      "Epoch 19/40\n",
      "3224/3224 [==============================] - 0s 49us/step - loss: 0.2021 - acc: 0.9395 - val_loss: 0.1966 - val_acc: 0.9375\n",
      "Epoch 20/40\n",
      "3224/3224 [==============================] - 0s 45us/step - loss: 0.1986 - acc: 0.9408 - val_loss: 0.1942 - val_acc: 0.9375\n",
      "Epoch 21/40\n",
      "3224/3224 [==============================] - 0s 49us/step - loss: 0.1955 - acc: 0.9417 - val_loss: 0.1918 - val_acc: 0.9383\n",
      "Epoch 22/40\n",
      "3224/3224 [==============================] - 0s 47us/step - loss: 0.1929 - acc: 0.9404 - val_loss: 0.1900 - val_acc: 0.9368\n",
      "Epoch 23/40\n",
      "3224/3224 [==============================] - 0s 45us/step - loss: 0.1901 - acc: 0.9404 - val_loss: 0.1883 - val_acc: 0.9368\n",
      "Epoch 24/40\n",
      "3224/3224 [==============================] - 0s 60us/step - loss: 0.1878 - acc: 0.9417 - val_loss: 0.1869 - val_acc: 0.9383\n",
      "Epoch 25/40\n",
      "3224/3224 [==============================] - 0s 67us/step - loss: 0.1855 - acc: 0.9414 - val_loss: 0.1855 - val_acc: 0.9390\n",
      "Epoch 26/40\n",
      "3224/3224 [==============================] - 0s 49us/step - loss: 0.1835 - acc: 0.9420 - val_loss: 0.1847 - val_acc: 0.9390\n",
      "Epoch 27/40\n",
      "3224/3224 [==============================] - 0s 47us/step - loss: 0.1815 - acc: 0.9426 - val_loss: 0.1829 - val_acc: 0.9390\n",
      "Epoch 28/40\n",
      "3224/3224 [==============================] - 0s 48us/step - loss: 0.1798 - acc: 0.9426 - val_loss: 0.1826 - val_acc: 0.9419\n",
      "Epoch 29/40\n",
      "3224/3224 [==============================] - 0s 46us/step - loss: 0.1779 - acc: 0.9439 - val_loss: 0.1816 - val_acc: 0.9397\n",
      "Epoch 30/40\n",
      "3224/3224 [==============================] - 0s 60us/step - loss: 0.1761 - acc: 0.9442 - val_loss: 0.1804 - val_acc: 0.9390\n",
      "Epoch 31/40\n",
      "3224/3224 [==============================] - 0s 67us/step - loss: 0.1747 - acc: 0.9451 - val_loss: 0.1797 - val_acc: 0.9397\n",
      "Epoch 32/40\n",
      "3224/3224 [==============================] - 0s 55us/step - loss: 0.1731 - acc: 0.9463 - val_loss: 0.1790 - val_acc: 0.9397\n",
      "Epoch 33/40\n",
      "3224/3224 [==============================] - 0s 47us/step - loss: 0.1713 - acc: 0.9460 - val_loss: 0.1785 - val_acc: 0.9397\n",
      "Epoch 34/40\n",
      "3224/3224 [==============================] - 0s 46us/step - loss: 0.1699 - acc: 0.9470 - val_loss: 0.1778 - val_acc: 0.9397\n",
      "Epoch 35/40\n",
      "3224/3224 [==============================] - 0s 49us/step - loss: 0.1682 - acc: 0.9473 - val_loss: 0.1771 - val_acc: 0.9397\n",
      "Epoch 36/40\n",
      "3224/3224 [==============================] - 0s 47us/step - loss: 0.1667 - acc: 0.9470 - val_loss: 0.1766 - val_acc: 0.9397\n",
      "Epoch 37/40\n",
      "3224/3224 [==============================] - 0s 47us/step - loss: 0.1651 - acc: 0.9479 - val_loss: 0.1763 - val_acc: 0.9405\n",
      "Epoch 38/40\n",
      "3224/3224 [==============================] - 0s 60us/step - loss: 0.1639 - acc: 0.9482 - val_loss: 0.1759 - val_acc: 0.9397\n",
      "Epoch 39/40\n",
      "3224/3224 [==============================] - 0s 64us/step - loss: 0.1625 - acc: 0.9479 - val_loss: 0.1756 - val_acc: 0.9405\n",
      "Epoch 40/40\n",
      "3224/3224 [==============================] - 0s 62us/step - loss: 0.1610 - acc: 0.9473 - val_loss: 0.1752 - val_acc: 0.9397\n"
     ]
    }
   ],
   "source": [
    "#训练，使用 fit 函数\n",
    "history = model.fit(train_data,#训练数据的输入X\n",
    "                    train_label,#训练标识Y\n",
    "                    epochs=40,#训练轮数\n",
    "                    batch_size=20,#每次梯度下降时包含的样本数\n",
    "                    validation_data=(test_data, test_label),#验证集\n",
    "                    verbose=1)#日志显示，1表示以进度条形式显示"
   ]
  },
  {
   "cell_type": "code",
   "execution_count": 6,
   "metadata": {},
   "outputs": [],
   "source": [
    "history_dict = history.history\n",
    "history_dict.keys()\n",
    "dict_keys=['loss', 'val_loss', 'val_acc', 'acc']"
   ]
  },
  {
   "cell_type": "code",
   "execution_count": 7,
   "metadata": {},
   "outputs": [],
   "source": [
    "def load_data_forcase(file_path):\n",
    "    data=[]\n",
    "    with open(file_path,\"r\") as data_file:\n",
    "        raw_data=data_file.readlines()\n",
    "        for raw_line in raw_data:\n",
    "            sample=raw_line[:-1]#去掉了行读取数据中的\\n\n",
    "            sample=sample.split(\",\")#以逗号分隔字符串\n",
    "            sample=np.array([float(feature) for feature in sample])#创建一个array\n",
    "            sample[-3]/=10\n",
    "            sample[-2]/=100\n",
    "            sample[-1]/=1000\n",
    "            #对后三个较大的数据做调整\n",
    "            data.append(sample)#导出sample的值\n",
    "    return np.array(data)\n",
    "forcase_data=load_data_forcase(\"./get_the_flag.data\")"
   ]
  },
  {
   "cell_type": "code",
   "execution_count": 8,
   "metadata": {},
   "outputs": [
    {
     "name": "stdout",
     "output_type": "stream",
     "text": [
      "560/560 [==============================] - 0s 46us/step\n"
     ]
    }
   ],
   "source": [
    "forcase_end = model.predict_classes(forcase_data , batch_size=20, verbose=1)"
   ]
  },
  {
   "cell_type": "code",
   "execution_count": 9,
   "metadata": {},
   "outputs": [
    {
     "data": {
      "text/plain": [
       "560"
      ]
     },
     "execution_count": 9,
     "metadata": {},
     "output_type": "execute_result"
    }
   ],
   "source": [
    "len(forcase_end)"
   ]
  },
  {
   "cell_type": "code",
   "execution_count": 12,
   "metadata": {
    "scrolled": false
   },
   "outputs": [
    {
     "data": {
      "image/png": "[encoded data removed]",
      "text/plain": [
       "<Figure size 432x288 with 1 Axes>"
      ]
     },
     "metadata": {
      "needs_background": "light"
     },
     "output_type": "display_data"
    }
   ],
   "source": [
    "import matplotlib.pyplot as plt\n",
    "x = np.array(range(560))\n",
    "y = forcase_end\n",
    "plt.scatter(x, y)\n",
    "plt.show()"
   ]
  },
  {
   "cell_type": "code",
   "execution_count": 13,
   "metadata": {},
   "outputs": [
    {
     "name": "stdout",
     "output_type": "stream",
     "text": [
      "[1, 0, 0, 0, 1, 0, 0, 1, 1, 1, 0, 1, 0, 1, 1, 1, 0, 1, 0, 0, 1, 1, 1, 0, 1, 1, 0, 1, 1, 1, 0, 0, 1, 0, 0, 1, 0, 1, 1, 1, 1, 1, 1, 0, 0, 0, 0, 0, 1, 1, 0, 0, 1, 0, 0]\n"
     ]
    }
   ],
   "source": [
    "flag=[]\n",
    "i = 0\n",
    "t = 0\n",
    "while i < 560:\n",
    "    if forcase_end[i] == 1 :\n",
    "        t = t + 1\n",
    "    if i % 10 == 0 :\n",
    "        if t > 5 :\n",
    "            flag.append(1)\n",
    "        else :\n",
    "            flag.append(0)\n",
    "        t = 0\n",
    "    i = i + 1 \n",
    "\n",
    "print(flag[1:])"
   ]
  },
  {
   "cell_type": "code",
   "execution_count": 14,
   "metadata": {},
   "outputs": [
    {
     "data": {
      "image/png": "[encoded data removed]",
      "text/plain": [
       "<Figure size 432x288 with 1 Axes>"
      ]
     },
     "metadata": {
      "needs_background": "light"
     },
     "output_type": "display_data"
    }
   ],
   "source": [
    "\n",
    "%matplotlib inline\n",
    "acc = history.history['acc']\n",
    "val_acc = history.history['val_acc']\n",
    "loss = history.history['loss']\n",
    "val_loss = history.history['val_loss']\n",
    "\n",
    "epochs = range(1, len(acc) + 1)\n",
    "\n",
    "# \"bo\" is for \"blue dot\"\n",
    "plt.plot(epochs, loss, 'bo', label='Training loss')\n",
    "# b is for \"solid blue line\"\n",
    "plt.plot(epochs, val_loss, 'b', label='Validation loss')\n",
    "plt.title('Training and validation loss')\n",
    "plt.xlabel('Epochs')\n",
    "plt.ylabel('Loss')\n",
    "plt.legend()\n",
    "\n",
    "plt.show()"
   ]
  },
  {
   "cell_type": "code",
   "execution_count": 15,
   "metadata": {},
   "outputs": [
    {
     "data": {
      "image/png": "[encoded data removed]",
      "text/plain": [
       "<Figure size 432x288 with 1 Axes>"
      ]
     },
     "metadata": {
      "needs_background": "light"
     },
     "output_type": "display_data"
    }
   ],
   "source": [
    "acc_values = history_dict['acc']\n",
    "val_acc_values = history_dict['val_acc']\n",
    "\n",
    "plt.plot(epochs, acc, 'bo', label='Training acc')\n",
    "plt.plot(epochs, val_acc, 'b', label='Validation acc')\n",
    "plt.title('Training and validation accuracy')\n",
    "plt.xlabel('Epochs')\n",
    "plt.ylabel('Accuracy')\n",
    "plt.legend()\n",
    "\n",
    "plt.show()"
   ]
  },
  {
   "cell_type": "code",
   "execution_count": null,
   "metadata": {},
   "outputs": [],
   "source": []
  }
 ],
 "metadata": {
  "kernelspec": {
   "display_name": "Python 3",
   "language": "python",
   "name": "python3"
  },
  "language_info": {
   "codemirror_mode": {
    "name": "ipython",
    "version": 3
   },
   "file_extension": ".py",
   "mimetype": "text/x-python",
   "name": "python",
   "nbconvert_exporter": "python",
   "pygments_lexer": "ipython3",
   "version": "3.7.1"
  }
 },
 "nbformat": 4,
 "nbformat_minor": 2
}
